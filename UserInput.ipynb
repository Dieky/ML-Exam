{
 "cells": [
  {
   "cell_type": "code",
   "execution_count": 32,
   "id": "471dcf4d-6998-4440-88ff-549d7f616d0b",
   "metadata": {},
   "outputs": [],
   "source": [
    "def recommend_airbnbs(filepath=\"../ML-exam/data/clustered_airbnb.csv\"):\n",
    "    import pandas as pd\n",
    "\n",
    "    # Load data\n",
    "    df = pd.read_csv(filepath)\n",
    "\n",
    "    # --- Available cities ---\n",
    "    cities = sorted(df['City'].unique())\n",
    "    print(\"Available cities:\")\n",
    "    for c in cities:\n",
    "        print(\"-\", c)\n",
    "\n",
    "    # --- User Inputs ---\n",
    "    print(\"\\n--- Enter your preferences ---\")\n",
    "    try:\n",
    "        user_budget = float(input(\"Total budget (€): \"))\n",
    "        duration_input = input(\"Number of nights (leave blank to maximize duration): \").strip()\n",
    "        min_bedrooms = int(input(\"Minimum number of bedrooms: \"))\n",
    "        max_city_dist = float(input(\"Max distance to city center (e.g. 3.0): \"))\n",
    "        max_metro_dist = float(input(\"Max distance to metro (e.g. 1.0): \"))\n",
    "        weekend = input(\"Is your stay during a weekend? (yes/no): \").lower() == \"yes\"\n",
    "        city_input = input(\"Pick a city (leave blank to search all): \").strip()\n",
    "    except ValueError:\n",
    "        print(\"Invalid input. Please try again.\")\n",
    "        return\n",
    "\n",
    "    # Determine mode\n",
    "    if duration_input == \"\":\n",
    "        mode = \"duration\"\n",
    "        user_duration = None\n",
    "    else:\n",
    "        mode = \"value\"\n",
    "        try:\n",
    "            user_duration = int(duration_input)\n",
    "        except ValueError:\n",
    "            print(\"Invalid number of nights. Please enter an integer.\")\n",
    "            return\n",
    "\n",
    "    # --- Filter listings ---\n",
    "    filtered_df = df.copy()\n",
    "    if weekend:\n",
    "        filtered_df = filtered_df[filtered_df['Is_weekend_bool'] == 1]\n",
    "    if city_input:\n",
    "        filtered_df = filtered_df[filtered_df['City'].str.lower() == city_input.lower()]\n",
    "    filtered_df = filtered_df[\n",
    "        (filtered_df['bedrooms'] >= min_bedrooms) &\n",
    "        (filtered_df['dist'] <= max_city_dist) &\n",
    "        (filtered_df['metro_dist'] <= max_metro_dist)\n",
    "    ].copy()\n",
    "\n",
    "    if filtered_df.empty:\n",
    "        print(\"\\nNo listings match your criteria.\")\n",
    "        return\n",
    "\n",
    "    # --- Compute recommendations ---\n",
    "    if mode == \"duration\":\n",
    "        filtered_df['max_nights'] = (user_budget / filtered_df['realSum']).apply(int)\n",
    "        recommended = filtered_df.sort_values(by='max_nights', ascending=False)\n",
    "        display_cols = ['City', 'realSum', 'bedrooms', 'dist', 'metro_dist',\n",
    "                        'guest_satisfaction_overall', 'max_nights']\n",
    "    else:\n",
    "        filtered_df['price_per_day'] = filtered_df['realSum'] / user_duration\n",
    "        filtered_df['value_score'] = filtered_df['guest_satisfaction_overall'] / filtered_df['price_per_day']\n",
    "        recommended = filtered_df.sort_values(by='value_score', ascending=False)\n",
    "        display_cols = ['City', 'realSum', 'bedrooms', 'dist', 'metro_dist',\n",
    "                        'guest_satisfaction_overall', 'value_score']\n",
    "\n",
    "    # --- Output Results ---\n",
    "    print(f\"\\nTop 10 Recommended Listings (Mode: {mode}):\\n\")\n",
    "    print(recommended[display_cols].head(10).to_string(index=False))\n"
   ]
  },
  {
   "cell_type": "code",
   "execution_count": null,
   "id": "0c345d60-c739-48a7-9d7c-f4d3f2220e4b",
   "metadata": {},
   "outputs": [
    {
     "name": "stdout",
     "output_type": "stream",
     "text": [
      "Available cities:\n",
      "- Amsterdam\n",
      "- Athens\n",
      "- Barcelona\n",
      "- Berlin\n",
      "- Budapest\n",
      "- Lisbon\n",
      "- London\n",
      "- Paris\n",
      "- Rome\n",
      "- Vienna\n",
      "\n",
      "--- Enter your preferences ---\n"
     ]
    }
   ],
   "source": [
    "recommend_airbnbs()\n"
   ]
  },
  {
   "cell_type": "code",
   "execution_count": null,
   "id": "579e8668-24e0-4cea-aa3f-237fa05aa191",
   "metadata": {},
   "outputs": [],
   "source": []
  }
 ],
 "metadata": {
  "kernelspec": {
   "display_name": "Python [conda env:base] *",
   "language": "python",
   "name": "conda-base-py"
  },
  "language_info": {
   "codemirror_mode": {
    "name": "ipython",
    "version": 3
   },
   "file_extension": ".py",
   "mimetype": "text/x-python",
   "name": "python",
   "nbconvert_exporter": "python",
   "pygments_lexer": "ipython3",
   "version": "3.11.5"
  }
 },
 "nbformat": 4,
 "nbformat_minor": 5
}
