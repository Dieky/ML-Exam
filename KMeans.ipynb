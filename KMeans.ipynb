{
 "cells": [
  {
   "cell_type": "code",
   "execution_count": null,
   "id": "8c391485-1867-4293-a6ee-e3e27aad7c76",
   "metadata": {},
   "outputs": [],
   "source": [
    "import pandas as pd\n",
    "from sklearn.cluster import KMeans\n",
    "from sklearn.preprocessing import StandardScaler\n",
    "import matplotlib.pyplot as plt\n",
    "import numpy as np\n",
    "import seaborn as sns\n",
    "from sklearn.decomposition import PCA"
   ]
  },
  {
   "cell_type": "code",
   "execution_count": null,
   "id": "101c73cd-3b9a-4d72-982f-3e7b64c2fbf0",
   "metadata": {},
   "outputs": [],
   "source": [
    "df = pd.read_csv(\"../ML-Exam/data/cleaned_airbnb_data.csv\")"
   ]
  },
  {
   "cell_type": "code",
   "execution_count": null,
   "id": "b35c3289-bdf0-43dc-8b43-1a6c4f82783e",
   "metadata": {},
   "outputs": [],
   "source": [
    "# Select numerical features for clustering\n",
    "numerical_features = ['realSum', 'person_capacity', 'cleanliness_rating', \n",
    "                      'guest_satisfaction_overall', 'bedrooms', 'dist', 'metro_dist',\n",
    "                      'host_is_superhost_bool', 'Is_weekend_bool','room_private_bool']\n",
    "\n",
    "# Create a copy of the data with just numerical features\n",
    "cluster_data = df[numerical_features].copy()\n",
    "\n",
    "# Standardize the data for clustering\n",
    "scaler = StandardScaler()\n",
    "scaled_data = scaler.fit_transform(cluster_data)\n",
    "\n",
    "# Determine optimal number of clusters using elbow method\n",
    "inertia = []\n",
    "k_range = range(1, 11)\n",
    "\n",
    "for k in k_range:\n",
    "    kmeans = KMeans(n_clusters=k, random_state=42, n_init=10)\n",
    "    kmeans.fit(scaled_data)\n",
    "    inertia.append(kmeans.inertia_)\n",
    "\n",
    "# Find the elbow point using the rate of change\n",
    "inertia_array = np.array(inertia)\n",
    "# Calculate percentage of change in inertia\n",
    "inertia_diffs = np.diff(inertia_array) / inertia_array[:-1] * 100\n",
    "# Convert to absolute values (since changes are negative)\n",
    "inertia_diffs_abs = np.abs(inertia_diffs)\n",
    "\n",
    "# Find the last k value where improvement is above the threshold\n",
    "threshold = 10  # percentage improvement threshold\n",
    "optimal_k = 2  # default to 2 if no clear elbow\n",
    "\n",
    "# Identify the last k value where the improvement is above threshold\n",
    "last_above_threshold = None\n",
    "for i, diff_pct in enumerate(inertia_diffs_abs):\n",
    "    k_value = i + 2  # k value is i+2 (since we're looking at differences and k starts at 1)\n",
    "    if diff_pct >= threshold:\n",
    "        last_above_threshold = k_value\n",
    "\n",
    "# Set optimal_k to be the last k with improvement above threshold\n",
    "if last_above_threshold is not None:\n",
    "    optimal_k = last_above_threshold  # Use exactly the last k above threshold\n",
    "\n",
    "# Print the actual improvement percentages for clarity\n",
    "print(\"Improvement percentages for each additional cluster:\")\n",
    "for i, pct in enumerate(inertia_diffs_abs):\n",
    "    k_val = i + 2  # k starts at 2 for diffs\n",
    "    print(f\"  k={k_val}: {pct:.2f}% improvement\")\n",
    "    if k_val == last_above_threshold:\n",
    "        print(f\"  --> Last value above {threshold}% threshold\")\n",
    "\n",
    "# Plot the elbow curve\n",
    "plt.figure(figsize=(12, 8))\n",
    "\n",
    "# Main plot - inertia\n",
    "plt.subplot(2, 1, 1)\n",
    "plt.plot(k_range, inertia, marker='o', linewidth=2)\n",
    "plt.axvline(x=optimal_k, color='r', linestyle='--', label=f'Optimal k = {optimal_k}')\n",
    "plt.title('Elbow Method for Optimal K')\n",
    "plt.xlabel('Number of Clusters (K)')\n",
    "plt.ylabel('Inertia')\n",
    "plt.xticks(k_range)\n",
    "plt.grid(True)\n",
    "plt.legend()\n",
    "\n",
    "# Secondary plot - percentage improvement\n",
    "plt.subplot(2, 1, 2)\n",
    "plt.bar(range(2, len(k_range) + 1), inertia_diffs_abs, alpha=0.7)\n",
    "plt.axhline(y=threshold, color='r', linestyle='--', label=f'Threshold = {threshold}%')\n",
    "# Mark the optimal k\n",
    "plt.axvline(x=optimal_k, color='green', linestyle='--', \n",
    "           label=f'Optimal k = {optimal_k}')\n",
    "plt.title('Percentage Improvement with Additional Cluster')\n",
    "plt.xlabel('Number of Clusters (K)')\n",
    "plt.ylabel('Improvement (%)')\n",
    "plt.xticks(range(2, len(k_range) + 1))\n",
    "plt.grid(True, axis='y')\n",
    "plt.legend()\n",
    "\n",
    "plt.tight_layout()\n",
    "plt.show()\n",
    "\n",
    "print(f\"Automatically determined optimal k = {optimal_k} (last cluster with improvement >= {threshold}%)\")"
   ]
  },
  {
   "cell_type": "code",
   "execution_count": null,
   "id": "3d7394a2-b028-4179-b13f-9d986ec5cee6",
   "metadata": {},
   "outputs": [],
   "source": [
    "optimal_k = 5  # Update this based on your elbow plot\n",
    "kmeans = KMeans(n_clusters=optimal_k, random_state=42)\n",
    "df['cluster'] = kmeans.fit_predict(scaled_data)"
   ]
  },
  {
   "cell_type": "code",
   "execution_count": null,
   "id": "8d5a52fe-567c-4b03-8433-fe8689db29f7",
   "metadata": {},
   "outputs": [],
   "source": [
    "sns.countplot(data=df, x='City', hue='cluster')\n",
    "plt.title(\"Listings by City and Cluster\")\n",
    "plt.xticks(rotation=45)\n",
    "plt.tight_layout()\n",
    "plt.show()"
   ]
  },
  {
   "cell_type": "code",
   "execution_count": null,
   "id": "925c513a-0574-40bd-a03e-fc182cd590b1",
   "metadata": {},
   "outputs": [],
   "source": [
    "cluster_summary = df.groupby('cluster')[numerical_features].mean()\n",
    "cluster_summary\n",
    "df['cluster'].value_counts().sort_index()\n"
   ]
  },
  {
   "cell_type": "code",
   "execution_count": null,
   "id": "1d620c47-cc65-40d0-8c70-577cc7e4ebb9",
   "metadata": {},
   "outputs": [],
   "source": [
    "df = df.drop(columns=['cluster_4', 'cluster_6'], errors='ignore')  # `errors='ignore'` makes it safe if they don't exist\n",
    "df.to_csv(\"../ML-exam/data/clustered_airbnb.csv\", index=False)\n"
   ]
  },
  {
   "cell_type": "code",
   "execution_count": null,
   "id": "6d0baa41-e755-4d17-b3c6-6f7202aa857a",
   "metadata": {},
   "outputs": [],
   "source": []
  }
 ],
 "metadata": {
  "kernelspec": {
   "display_name": "Python [conda env:base] *",
   "language": "python",
   "name": "conda-base-py"
  },
  "language_info": {
   "codemirror_mode": {
    "name": "ipython",
    "version": 3
   },
   "file_extension": ".py",
   "mimetype": "text/x-python",
   "name": "python",
   "nbconvert_exporter": "python",
   "pygments_lexer": "ipython3",
   "version": "3.11.5"
  }
 },
 "nbformat": 4,
 "nbformat_minor": 5
}
