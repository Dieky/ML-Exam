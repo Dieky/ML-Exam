{
 "cells": [
  {
   "cell_type": "code",
   "execution_count": null,
   "id": "a88b26b5-35a3-44f1-a65f-56519b63a897",
   "metadata": {},
   "outputs": [],
   "source": [
    "# Load the cleaned dataset\n",
    "import pandas as pd\n",
    "\n",
    "df = pd.read_csv(\"../ML-Exam/data/cleaned_airbnb_data.csv\")\n",
    "\n",
    "# Show the first few rows and check column names\n",
    "df.head()\n"
   ]
  },
  {
   "cell_type": "code",
   "execution_count": null,
   "id": "428ba239-7cfa-4a0d-b62e-f9f1ed9afd50",
   "metadata": {},
   "outputs": [],
   "source": [
    "from sklearn.model_selection import train_test_split\n",
    "from sklearn.ensemble import RandomForestRegressor\n",
    "from sklearn.metrics import mean_squared_error, r2_score\n",
    "\n",
    "# Step 1: Encode categorical features\n",
    "df_encoded = pd.get_dummies(df, columns=['room_type', 'City'], drop_first=True)\n",
    "\n",
    "# Step 2: Define features (X) and target (y)\n",
    "X = df_encoded.drop(columns=['realSum', 'ID'])\n",
    "y = df_encoded['realSum']\n",
    "\n",
    "# Step 3: Train-test split\n",
    "X_train, X_test, y_train, y_test = train_test_split(X, y, test_size=0.2, random_state=42)\n",
    "\n",
    "# Step 4: Train Random Forest\n",
    "rf = RandomForestRegressor(n_estimators=100, random_state=42)\n",
    "rf.fit(X_train, y_train)\n",
    "\n",
    "# Step 5: Predict and evaluate\n",
    "y_pred = rf.predict(X_test)\n",
    "mse = mean_squared_error(y_test, y_pred)\n",
    "r2 = r2_score(y_test, y_pred)\n",
    "\n",
    "mse, r2\n"
   ]
  },
  {
   "cell_type": "markdown",
   "id": "03e5bf11-4571-42a5-b939-552877f94cb9",
   "metadata": {},
   "source": [
    "**Interpretation:**\n",
    "\n",
    "R² = 0.605 means the model explains about 60.5% of the variance in Airbnb prices."
   ]
  },
  {
   "cell_type": "code",
   "execution_count": null,
   "id": "955ac1be-f1f3-4550-9a0a-e10475e83099",
   "metadata": {},
   "outputs": [],
   "source": [
    "from sklearn.model_selection import GridSearchCV\n",
    "\n",
    "# Define the parameter grid to search\n",
    "param_grid = {\n",
    "    'n_estimators': [100, 150],\n",
    "    'max_depth': [None, 10],\n",
    "}\n",
    "\n",
    "\n",
    "# Create the model\n",
    "rf = RandomForestRegressor(random_state=42)\n",
    "\n",
    "# Setup GridSearchCV\n",
    "grid_search = GridSearchCV(\n",
    "    estimator=rf,\n",
    "    param_grid=param_grid,\n",
    "    cv=3,\n",
    "    n_jobs=-1,\n",
    "    scoring='r2',\n",
    "    verbose=1\n",
    ")\n",
    "\n",
    "# Fit to training data\n",
    "grid_search.fit(X_train, y_train)\n",
    "\n",
    "# Best model and score\n",
    "best_model = grid_search.best_estimator_\n",
    "best_r2 = grid_search.best_score_\n",
    "\n",
    "best_model, best_r2\n"
   ]
  },
  {
   "cell_type": "code",
   "execution_count": null,
   "id": "27258094-9386-42d8-a467-f6050825c6bc",
   "metadata": {},
   "outputs": [],
   "source": []
  }
 ],
 "metadata": {
  "kernelspec": {
   "display_name": "Python [conda env:base] *",
   "language": "python",
   "name": "conda-base-py"
  },
  "language_info": {
   "codemirror_mode": {
    "name": "ipython",
    "version": 3
   },
   "file_extension": ".py",
   "mimetype": "text/x-python",
   "name": "python",
   "nbconvert_exporter": "python",
   "pygments_lexer": "ipython3",
   "version": "3.11.5"
  }
 },
 "nbformat": 4,
 "nbformat_minor": 5
}
