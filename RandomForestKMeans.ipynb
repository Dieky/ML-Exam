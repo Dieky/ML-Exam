{
 "cells": [
  {
   "cell_type": "markdown",
   "id": "intro-imports",
   "metadata": {},
   "source": [
    "## Data Loading and Initial Setup\n",
    "\n",
    "This cell imports required libraries and loads the cleaned Airbnb dataset. We use:\n",
    "- pandas for data manipulation\n",
    "- scikit-learn for machine learning models and preprocessing\n",
    "- numpy for numerical operations\n",
    "- matplotlib for visualization"
   ]
  },
  {
   "cell_type": "code",
   "execution_count": null,
   "id": "a88b26b5-35a3-44f1-a65f-56519b63a897",
   "metadata": {},
   "outputs": [],
   "source": [
    "# Load the cleaned dataset\n",
    "import pandas as pd\n",
    "\n",
    "df = pd.read_csv(\"../ML-Exam/data/cleaned_airbnb_data.csv\")\n",
    "\n",
    "# Show the first few rows and check column names\n",
    "df.head()\n"
   ]
  },
  {
   "cell_type": "markdown",
   "id": "rf-model",
   "metadata": {},
   "source": [
    "## Initial Random Forest Model\n",
    "\n",
    "This cell builds and evaluates a Random Forest model to predict Airbnb prices:\n",
    "1. Encodes categorical features using one-hot encoding\n",
    "2. Splits data into training and test sets\n",
    "3. Trains a Random Forest model\n",
    "4. Evaluates model performance using MSE and R² metrics"
   ]
  },
  {
   "cell_type": "code",
   "execution_count": null,
   "id": "428ba239-7cfa-4a0d-b62e-f9f1ed9afd50",
   "metadata": {},
   "outputs": [],
   "source": [
    "from sklearn.model_selection import train_test_split\n",
    "from sklearn.ensemble import RandomForestRegressor\n",
    "from sklearn.metrics import mean_squared_error, r2_score\n",
    "\n",
    "# Step 1: Encode categorical features\n",
    "df_encoded = pd.get_dummies(df, columns=['room_type', 'City'], drop_first=True)\n",
    "\n",
    "# Step 2: Define features (X) and target (y)\n",
    "X = df_encoded.drop(columns=['realSum', 'ID'])\n",
    "y = df_encoded['realSum']\n",
    "\n",
    "# Step 3: Train-test split\n",
    "X_train, X_test, y_train, y_test = train_test_split(X, y, test_size=0.2, random_state=42)\n",
    "\n",
    "# Step 4: Train Random Forest\n",
    "rf = RandomForestRegressor(n_estimators=100, random_state=42)\n",
    "rf.fit(X_train, y_train)\n",
    "\n",
    "# Step 5: Predict and evaluate\n",
    "y_pred = rf.predict(X_test)\n",
    "mse = mean_squared_error(y_test, y_pred)\n",
    "r2 = r2_score(y_test, y_pred)\n",
    "\n",
    "mse, r2\n"
   ]
  },
  {
   "cell_type": "markdown",
   "id": "03e5bf11-4571-42a5-b939-552877f94cb9",
   "metadata": {},
   "source": [
    "**Interpretation:**\n",
    "\n",
    "R² = 0.605 means the model explains about 60.5% of the variance in Airbnb prices."
   ]
  },
  {
   "cell_type": "markdown",
   "id": "price-desc",
   "metadata": {},
   "source": [
    "## Price Distribution Analysis\n",
    "\n",
    "This cell examines the distribution of prices in the dataset to understand the range and potential outliers."
   ]
  },
  {
   "cell_type": "code",
   "execution_count": null,
   "id": "955ac1be-f1f3-4550-9a0a-e10475e83099",
   "metadata": {},
   "outputs": [],
   "source": [
    "df['realSum'].describe(percentiles=[0.01, 0.25, 0.5, 0.75, 0.99])"
   ]
  },
  {
   "cell_type": "markdown",
   "id": "outlier-removal",
   "metadata": {},
   "source": [
    "## Improved Model with Outlier Removal\n",
    "\n",
    "This cell creates an improved model by:\n",
    "1. Removing price outliers above the 99th percentile\n",
    "2. Retraining the Random Forest model\n",
    "3. Evaluating the new model's performance"
   ]
  },
  {
   "cell_type": "code",
   "execution_count": null,
   "id": "27258094-9386-42d8-a467-f6050825c6bc",
   "metadata": {},
   "outputs": [],
   "source": [
    "from sklearn.model_selection import GridSearchCV\n",
    "\n",
    "# Filter out listings above the 99th percentile\n",
    "threshold = df['realSum'].quantile(0.99)\n",
    "df_filtered = df[df['realSum'] < threshold]\n",
    "\n",
    "# Define the parameter grid to search\n",
    "param_grid = {\n",
    "    'n_estimators': [100, 150],\n",
    "    'max_depth': [None, 10],\n",
    "}\n",
    "\n",
    "\n",
    "# Create the model\n",
    "rf = RandomForestRegressor(random_state=42)\n",
    "\n",
    "# Setup GridSearchCV\n",
    "grid_search = GridSearchCV(\n",
    "    estimator=rf,\n",
    "    param_grid=param_grid,\n",
    "    cv=3,\n",
    "    n_jobs=-1,\n",
    "    scoring='r2',\n",
    "    verbose=1\n",
    ")\n",
    "\n",
    "# Fit to training data\n",
    "grid_search.fit(X_train, y_train)\n",
    "\n",
    "mse, r2\n"
   ]
  },
  {
   "cell_type": "markdown",
   "id": "save-data",
   "metadata": {},
   "source": [
    "## Save Filtered Dataset\n",
    "\n",
    "This cell saves the filtered dataset (without outliers) to a CSV file for future use."
   ]
  },
  {
   "cell_type": "code",
   "execution_count": 9,
   "id": "62a04cb1-5ee9-46a2-bcd6-b9a57f76b922",
   "metadata": {},
   "outputs": [],
   "source": [
    "filtered_path = \"../ML-Exam/data/cleaned_airbnb_data.csv\"\n",
    "df_filtered.to_csv(filtered_path, index=False)"
   ]
  }
 ],
 "metadata": {
  "kernelspec": {
   "display_name": "Python 3",
   "language": "python",
   "name": "python3"
  },
  "language_info": {
   "codemirror_mode": {
    "name": "ipython",
    "version": 3
   },
   "file_extension": ".py",
   "mimetype": "text/x-python",
   "name": "python",
   "nbconvert_exporter": "python",
   "pygments_lexer": "ipython3",
   "version": "3.12.2"
  }
 },
 "nbformat": 4,
 "nbformat_minor": 5
}
