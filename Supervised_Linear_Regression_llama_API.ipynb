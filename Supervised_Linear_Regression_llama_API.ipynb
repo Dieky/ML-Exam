{
 "cells": [
  {
   "cell_type": "code",
   "execution_count": null,
   "id": "53d0523c-8f63-4c8d-b5e2-67ffd0b846b3",
   "metadata": {},
   "outputs": [],
   "source": [
    "!pip install requests\n",
    "!pip install sentence-transformers faiss-cpu"
   ]
  },
  {
   "cell_type": "code",
   "execution_count": 1,
   "id": "37b44a9b-eddb-4c91-b8f8-eae15e648306",
   "metadata": {},
   "outputs": [],
   "source": [
    "import requests\n",
    "import json\n",
    "import pandas as pd\n",
    "from sentence_transformers import SentenceTransformer\n",
    "import faiss\n",
    "import numpy as np"
   ]
  },
  {
   "cell_type": "code",
   "execution_count": 2,
   "id": "a52fd40d-49a1-44d7-bced-1fbae2dd11ed",
   "metadata": {},
   "outputs": [],
   "source": [
    "df = pd.read_csv('./data/supervised_cleaned_airbnb_data.csv')"
   ]
  },
  {
   "cell_type": "code",
   "execution_count": 9,
   "id": "42ca1606-c081-4ad2-8a4d-539a0d65e9cf",
   "metadata": {},
   "outputs": [
    {
     "name": "stdout",
     "output_type": "stream",
     "text": [
      "Ollama estimated price: $120\n"
     ]
    }
   ],
   "source": [
    "# Straight query without feeding the model data through RAG\n",
    "\n",
    "query = \"\"\"\n",
    "A 1-bedroom apartment in Amsterdam with room for 2 people, a max distance to the city center 5km and metro distance of 2,5km. Outside of weekends\n",
    "Estimate a fair nightly price in USD for this property as if it were listed on Airbnb.\n",
    "Only return the price as a number.\n",
    "\"\"\"\n",
    "\n",
    "response = requests.post(\n",
    "    \"http://localhost:11434/api/generate\",\n",
    "    json={\n",
    "        \"model\": \"llama3\",\n",
    "        \"prompt\": query,\n",
    "        \"stream\": False\n",
    "    }\n",
    ")\n",
    "\n",
    "price = response.json()[\"response\"]\n",
    "print(f\"Ollama estimated price: {price}\")\n"
   ]
  },
  {
   "cell_type": "code",
   "execution_count": 11,
   "id": "98f6ae9c-d5e8-4aca-b7e4-61513090b9c9",
   "metadata": {},
   "outputs": [],
   "source": [
    "# Prepare data using RAG\n",
    "\n",
    "def row_to_description(row):\n",
    "    return (\n",
    "        f\"A {row['bedrooms']}-bedroom apartment in {row['City']} with room for {row['person_capacity']} people, \"\n",
    "        f\"max distance to the city center is {row['dist']} km and metro distance is {row['metro_dist']} km. \"\n",
    "        f\"Nightly price: ${row['realSum']}\"\n",
    "    )\n",
    "\n",
    "# Generate descriptions for all listings\n",
    "descriptions = df.apply(row_to_description, axis=1).tolist()\n",
    "\n",
    "# next step\n",
    "\n",
    "\n",
    "# Load embedding model\n",
    "embedder = SentenceTransformer('all-MiniLM-L6-v2')\n",
    "\n",
    "# Generate embeddings\n",
    "embeddings = embedder.encode(descriptions, convert_to_numpy=True)\n",
    "\n",
    "# Create FAISS index\n",
    "dimension = embeddings.shape[1]\n",
    "index = faiss.IndexFlatL2(dimension)\n",
    "index.add(embeddings)\n",
    "\n",
    "print(\"Embedding done!\")"
   ]
  },
  {
   "cell_type": "code",
   "execution_count": 13,
   "id": "0a753525-5709-4fc9-8942-ec6e3eee6c4b",
   "metadata": {},
   "outputs": [
    {
     "name": "stdout",
     "output_type": "stream",
     "text": [
      "Ollama (RAG-based) estimated price: Based on the similarities between the given listings and this new listing, I would estimate the nightly price to be around $108.1.\n",
      "\n",
      "Note that all the given listings have the same number of bedrooms (1.0), same maximum occupancy (2.0 people), and similar distances to the city center and metro station. The only significant difference is the distance from the city center, which is 5km in this new listing compared to a maximum of 2.7km in the given listings.\n",
      "\n",
      "Given that the prices for the given listings do not seem to vary significantly with distance, I would assume that the price for this new listing would also be around $108.1, since it has similar characteristics to the given listings.\n"
     ]
    }
   ],
   "source": [
    "# Queries and results\n",
    "# \"query\" is the active variable used for the model. Rename variables to test out different queries.\n",
    "# We are using the first entry in our data set as a description. The realSum is 194.03.\n",
    "\n",
    "# Original prompt with no focus on the 4'ts.\n",
    "# Result = $137.5 || top_k = 10\n",
    "# Result = $108.1 || top_k = 5\n",
    "query = \"\"\"\n",
    "A 1-bedroom apartment in City 1 with room for 2 people, a distance to the city center 5km and metro distance of 2.5km. Outside of weekends\n",
    "\"\"\"\n",
    "\n",
    "# Using the 4 T's in our prompt.\n",
    "# Result = $123 || top_k = 10\n",
    "# Result = $304.65 || top_k = 5\n",
    "query2 = \"\"\"\n",
    "Calculate a recommended price for a listing with these parameters.\n",
    "\n",
    "A 1-bedroom apartment in Amsterdam with room for 2 people, a distance to the city center 5km and metro distance of 2.5km. Outside of weekends\n",
    "\n",
    "The city values in the data set are transformed to numeric values. These are the original values: 1. Amsterdam, 2. Athen, 3. Barcelona, 4. Berlin, 5. Budapest, 6. Lisbon, 7. London, 8. Paris, 9. Rome, 10. Vienna\n",
    "\n",
    "Only return the price as a number.\n",
    "\"\"\"\n",
    "\n",
    "# Original prompt with City changed to Amsterdam instead of city 1 and less focus on the 4 T's.\n",
    "# Result = $112.45 || top_k = 10\n",
    "# Result = $122.25 || top_k = 5\n",
    "query3 = \"\"\"\n",
    "A 1-bedroom apartment in Amsterdam with room for 2 people, a distance to the city center 5km and metro distance of 2.5km. Outside of weekends.\n",
    "\n",
    "The city values in the data set are transformed to numeric values. These are the original values: 1. Amsterdam, 2. Athen, 3. Barcelona, 4. Berlin, 5. Budapest, 6. Lisbon, 7. London, 8. Paris, 9. Rome, 10. Vienna\n",
    "\"\"\"\n",
    "\n",
    "query_embedding = embedder.encode([query])\n",
    "\n",
    "# Search top 10\n",
    "top_k = 5\n",
    "distances, indices = index.search(np.array(query_embedding), top_k)\n",
    "\n",
    "# Get matched listing descriptions\n",
    "retrieved_examples = [descriptions[i] for i in indices[0]]\n",
    "\n",
    "# next step\n",
    "context = \"\\n\".join([f\"{i+1}. {desc}\" for i, desc in enumerate(retrieved_examples)])\n",
    "\n",
    "final_prompt = f\"\"\"\n",
    "Here are some similar Airbnb listings and their prices:\n",
    "\n",
    "{context}\n",
    "\n",
    "Now estimate the price for this listing:\n",
    "{query}\n",
    "\n",
    "Only return the estimated nightly price in USD as a number.\n",
    "\"\"\"\n",
    "\n",
    "response = requests.post(\n",
    "    \"http://localhost:11434/api/generate\",\n",
    "    json={\n",
    "        \"model\": \"llama3\",\n",
    "        \"prompt\": final_prompt,\n",
    "        \"stream\": False\n",
    "    }\n",
    ")\n",
    "\n",
    "price = response.json()[\"response\"]\n",
    "print(f\"Ollama (RAG-based) estimated price: {price}\")\n"
   ]
  },
  {
   "cell_type": "code",
   "execution_count": null,
   "id": "7bf362b8-e1c0-40c0-8269-9ead5095b820",
   "metadata": {},
   "outputs": [],
   "source": []
  }
 ],
 "metadata": {
  "kernelspec": {
   "display_name": "Python [conda env:base] *",
   "language": "python",
   "name": "conda-base-py"
  },
  "language_info": {
   "codemirror_mode": {
    "name": "ipython",
    "version": 3
   },
   "file_extension": ".py",
   "mimetype": "text/x-python",
   "name": "python",
   "nbconvert_exporter": "python",
   "pygments_lexer": "ipython3",
   "version": "3.12.7"
  }
 },
 "nbformat": 4,
 "nbformat_minor": 5
}
