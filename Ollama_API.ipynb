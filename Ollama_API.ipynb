{
 "cells": [
  {
   "cell_type": "code",
   "execution_count": 1,
   "id": "53d0523c-8f63-4c8d-b5e2-67ffd0b846b3",
   "metadata": {},
   "outputs": [
    {
     "name": "stdout",
     "output_type": "stream",
     "text": [
      "Requirement already satisfied: requests in c:\\users\\dieky\\anaconda3\\lib\\site-packages (2.32.3)\n",
      "Requirement already satisfied: charset-normalizer<4,>=2 in c:\\users\\dieky\\anaconda3\\lib\\site-packages (from requests) (3.3.2)\n",
      "Requirement already satisfied: idna<4,>=2.5 in c:\\users\\dieky\\anaconda3\\lib\\site-packages (from requests) (3.7)\n",
      "Requirement already satisfied: urllib3<3,>=1.21.1 in c:\\users\\dieky\\anaconda3\\lib\\site-packages (from requests) (2.2.3)\n",
      "Requirement already satisfied: certifi>=2017.4.17 in c:\\users\\dieky\\anaconda3\\lib\\site-packages (from requests) (2025.1.31)\n"
     ]
    }
   ],
   "source": [
    "!pip install requests"
   ]
  },
  {
   "cell_type": "code",
   "execution_count": 11,
   "id": "cb9c3813-3288-4f5f-9e3a-00bc148d4357",
   "metadata": {},
   "outputs": [
    {
     "name": "stdout",
     "output_type": "stream",
     "text": [
      "Ollama response: The answer to 2+2 is 4!\n"
     ]
    }
   ],
   "source": [
    "import requests\n",
    "import json\n",
    "\n",
    "url = \"http://localhost:11434/api/chat\"\n",
    "payload = {\n",
    "    \"model\": \"llama3\",  # Replace with your model\n",
    "    \"messages\": [\n",
    "        {\"role\": \"user\", \"content\": \"what is 2+2\"}\n",
    "    ],\n",
    "    \"stream\": False\n",
    "}\n",
    "\n",
    "response = requests.post(url, json=payload, stream=True)\n",
    "\n",
    "def parse_streaming_response(resp):\n",
    "    \"\"\"\n",
    "    Parses streaming/multi-JSON response from Ollama line-by-line.\n",
    "    Returns the last JSON object received.\n",
    "    \"\"\"\n",
    "    last_data = None\n",
    "    for line in resp.iter_lines():\n",
    "        if line:\n",
    "            try:\n",
    "                data = json.loads(line)\n",
    "                last_data = data\n",
    "            except json.JSONDecodeError:\n",
    "                continue\n",
    "    return last_data\n",
    "\n",
    "if response.status_code == 200:\n",
    "    data = parse_streaming_response(response)\n",
    "    if data and \"message\" in data:\n",
    "        answer = data[\"message\"].get(\"content\", \"\")\n",
    "        if answer.strip():\n",
    "            print(\"Ollama response:\", answer)\n",
    "        else:\n",
    "            print(\"Ollama returned empty content.\")\n",
    "    else:\n",
    "        print(\"Unexpected response format:\", data)\n",
    "else:\n",
    "    print(\"Error:\", response.status_code, response.text)\n"
   ]
  },
  {
   "cell_type": "code",
   "execution_count": null,
   "id": "a52fd40d-49a1-44d7-bced-1fbae2dd11ed",
   "metadata": {},
   "outputs": [],
   "source": []
  }
 ],
 "metadata": {
  "kernelspec": {
   "display_name": "Python [conda env:base] *",
   "language": "python",
   "name": "conda-base-py"
  },
  "language_info": {
   "codemirror_mode": {
    "name": "ipython",
    "version": 3
   },
   "file_extension": ".py",
   "mimetype": "text/x-python",
   "name": "python",
   "nbconvert_exporter": "python",
   "pygments_lexer": "ipython3",
   "version": "3.12.7"
  }
 },
 "nbformat": 4,
 "nbformat_minor": 5
}
