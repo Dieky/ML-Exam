{
 "cells": [
  {
   "cell_type": "code",
   "execution_count": 13,
   "id": "2609b7d0-2039-439b-8362-d58a8220b14b",
   "metadata": {},
   "outputs": [],
   "source": [
    "import pandas as pd\n",
    "import os\n",
    "\n",
    "# Path to the extracted dataset folder\n",
    "folder_path = 'airbnb-prices-in-european-cities'  # Adjust as needed\n",
    "\n",
    "# List all CSV files\n",
    "csv_files = [f for f in os.listdir(folder_path) if f.endswith('.csv')]\n",
    "\n",
    "combined_df = []\n",
    "\n",
    "for file in csv_files:\n",
    "    file_path = os.path.join(folder_path, file)\n",
    "\n",
    "    # Load CSV\n",
    "    df = pd.read_csv(file_path)\n",
    "\n",
    "    # Extract city and weekend flag from filename\n",
    "    filename_no_ext = os.path.splitext(file)[0]\n",
    "    \n",
    "    # Split city and weekday/weekend info\n",
    "    if filename_no_ext.endswith('_weekends'):\n",
    "        city = filename_no_ext.replace('_weekends', '').capitalize()\n",
    "        is_weekend = True\n",
    "    elif filename_no_ext.endswith('_weekdays'):\n",
    "        city = filename_no_ext.replace('_weekdays', '').capitalize()\n",
    "        is_weekend = False\n",
    "    else:\n",
    "        city = filename_no_ext.capitalize()\n",
    "        is_weekend = pd.NA\n",
    "\n",
    "    df['City'] = city\n",
    "    df['Is_weekend'] = is_weekend\n",
    "\n",
    "    combined_df.append(df)\n",
    "\n",
    "# Concatenate all city data\n",
    "final_df = pd.concat(combined_df, ignore_index=True)\n",
    "\n",
    "# Save to a new CSV\n",
    "final_df.to_csv('combined_airbnb_data.csv', index=False)\n"
   ]
  },
  {
   "cell_type": "code",
   "execution_count": 15,
   "id": "53622cb7-1abc-44ab-974e-1b1cd9e2e360",
   "metadata": {},
   "outputs": [],
   "source": [
    "df = pd.read_csv('combined_airbnb_data.csv')"
   ]
  },
  {
   "cell_type": "code",
   "execution_count": 17,
   "id": "351893b5-c23e-493b-9cb0-77aa871a1ad9",
   "metadata": {},
   "outputs": [
    {
     "name": "stdout",
     "output_type": "stream",
     "text": [
      "<class 'pandas.core.frame.DataFrame'>\n",
      "RangeIndex: 51707 entries, 0 to 51706\n",
      "Data columns (total 22 columns):\n",
      " #   Column                      Non-Null Count  Dtype  \n",
      "---  ------                      --------------  -----  \n",
      " 0   Unnamed: 0                  51707 non-null  int64  \n",
      " 1   realSum                     51707 non-null  float64\n",
      " 2   room_type                   51707 non-null  object \n",
      " 3   room_shared                 51707 non-null  bool   \n",
      " 4   room_private                51707 non-null  bool   \n",
      " 5   person_capacity             51707 non-null  float64\n",
      " 6   host_is_superhost           51707 non-null  bool   \n",
      " 7   multi                       51707 non-null  int64  \n",
      " 8   biz                         51707 non-null  int64  \n",
      " 9   cleanliness_rating          51707 non-null  float64\n",
      " 10  guest_satisfaction_overall  51707 non-null  float64\n",
      " 11  bedrooms                    51707 non-null  int64  \n",
      " 12  dist                        51707 non-null  float64\n",
      " 13  metro_dist                  51707 non-null  float64\n",
      " 14  attr_index                  51707 non-null  float64\n",
      " 15  attr_index_norm             51707 non-null  float64\n",
      " 16  rest_index                  51707 non-null  float64\n",
      " 17  rest_index_norm             51707 non-null  float64\n",
      " 18  lng                         51707 non-null  float64\n",
      " 19  lat                         51707 non-null  float64\n",
      " 20  City                        51707 non-null  object \n",
      " 21  Is_weekend                  51707 non-null  bool   \n",
      "dtypes: bool(4), float64(12), int64(4), object(2)\n",
      "memory usage: 7.3+ MB\n"
     ]
    }
   ],
   "source": [
    "df.info()"
   ]
  },
  {
   "cell_type": "code",
   "execution_count": 19,
   "id": "c1b3adb4-5eba-466e-963f-d8e9fda25add",
   "metadata": {},
   "outputs": [
    {
     "data": {
      "text/plain": [
       "'C:\\\\Users\\\\dieky\\\\Software dev\\\\AI & Machine learning\\\\ML_exam'"
      ]
     },
     "execution_count": 19,
     "metadata": {},
     "output_type": "execute_result"
    }
   ],
   "source": [
    "import os\n",
    "os.getcwd()"
   ]
  },
  {
   "cell_type": "code",
   "execution_count": null,
   "id": "a57fee99-df69-4726-a4db-43691e6b38d2",
   "metadata": {},
   "outputs": [],
   "source": []
  }
 ],
 "metadata": {
  "kernelspec": {
   "display_name": "Python [conda env:base] *",
   "language": "python",
   "name": "conda-base-py"
  },
  "language_info": {
   "codemirror_mode": {
    "name": "ipython",
    "version": 3
   },
   "file_extension": ".py",
   "mimetype": "text/x-python",
   "name": "python",
   "nbconvert_exporter": "python",
   "pygments_lexer": "ipython3",
   "version": "3.12.7"
  }
 },
 "nbformat": 4,
 "nbformat_minor": 5
}
