{
 "cells": [
  {
   "cell_type": "code",
   "execution_count": 14,
   "id": "2609b7d0-2039-439b-8362-d58a8220b14b",
   "metadata": {},
   "outputs": [],
   "source": [
    "import pandas as pd\n",
    "import os\n",
    "\n",
    "# Path to the extracted dataset folder\n",
    "folder_path = '../ML-Exam/airbnb-prices-in-european-cities/'\n",
    "\n",
    "# List all CSV files\n",
    "csv_files = [f for f in os.listdir(folder_path) if f.endswith('.csv')]\n",
    "\n",
    "combined_df = []\n",
    "\n",
    "for file in csv_files:\n",
    "    file_path = os.path.join(folder_path, file)\n",
    "\n",
    "    # Load CSV\n",
    "    df = pd.read_csv(file_path)\n",
    "\n",
    "    # Extract city and weekend flag from filename\n",
    "    filename_no_ext = os.path.splitext(file)[0]\n",
    "    \n",
    "    # Split city and weekday/weekend info\n",
    "    if filename_no_ext.endswith('_weekends'):\n",
    "        city = filename_no_ext.replace('_weekends', '').capitalize()\n",
    "        is_weekend = True\n",
    "    elif filename_no_ext.endswith('_weekdays'):\n",
    "        city = filename_no_ext.replace('_weekdays', '').capitalize()\n",
    "        is_weekend = False\n",
    "    else:\n",
    "        city = filename_no_ext.capitalize()\n",
    "        is_weekend = pd.NA\n",
    "\n",
    "    df['City'] = city\n",
    "    df['Is_weekend'] = is_weekend\n",
    "\n",
    "    combined_df.append(df)\n",
    "\n",
    "# Concatenate all city data\n",
    "final_df = pd.concat(combined_df, ignore_index=True)\n",
    "\n",
    "# Save to a new CSV\n",
    "final_df.to_csv(os.path.join('data/combined_airbnb_data.csv'), index=False)\n"
   ]
  },
  {
   "cell_type": "code",
   "execution_count": 16,
   "id": "53622cb7-1abc-44ab-974e-1b1cd9e2e360",
   "metadata": {},
   "outputs": [],
   "source": [
    "df = pd.read_csv('data/combined_airbnb_data.csv')"
   ]
  },
  {
   "cell_type": "code",
   "execution_count": 18,
   "id": "351893b5-c23e-493b-9cb0-77aa871a1ad9",
   "metadata": {},
   "outputs": [
    {
     "name": "stdout",
     "output_type": "stream",
     "text": [
      "<class 'pandas.core.frame.DataFrame'>\n",
      "RangeIndex: 51707 entries, 0 to 51706\n",
      "Data columns (total 22 columns):\n",
      " #   Column                      Non-Null Count  Dtype  \n",
      "---  ------                      --------------  -----  \n",
      " 0   Unnamed: 0                  51707 non-null  int64  \n",
      " 1   realSum                     51707 non-null  float64\n",
      " 2   room_type                   51707 non-null  object \n",
      " 3   room_shared                 51707 non-null  bool   \n",
      " 4   room_private                51707 non-null  bool   \n",
      " 5   person_capacity             51707 non-null  float64\n",
      " 6   host_is_superhost           51707 non-null  bool   \n",
      " 7   multi                       51707 non-null  int64  \n",
      " 8   biz                         51707 non-null  int64  \n",
      " 9   cleanliness_rating          51707 non-null  float64\n",
      " 10  guest_satisfaction_overall  51707 non-null  float64\n",
      " 11  bedrooms                    51707 non-null  int64  \n",
      " 12  dist                        51707 non-null  float64\n",
      " 13  metro_dist                  51707 non-null  float64\n",
      " 14  attr_index                  51707 non-null  float64\n",
      " 15  attr_index_norm             51707 non-null  float64\n",
      " 16  rest_index                  51707 non-null  float64\n",
      " 17  rest_index_norm             51707 non-null  float64\n",
      " 18  lng                         51707 non-null  float64\n",
      " 19  lat                         51707 non-null  float64\n",
      " 20  City                        51707 non-null  object \n",
      " 21  Is_weekend                  51707 non-null  bool   \n",
      "dtypes: bool(4), float64(12), int64(4), object(2)\n",
      "memory usage: 7.3+ MB\n"
     ]
    }
   ],
   "source": [
    "df.info()"
   ]
  },
  {
   "cell_type": "code",
   "execution_count": 20,
   "id": "c1b3adb4-5eba-466e-963f-d8e9fda25add",
   "metadata": {},
   "outputs": [
    {
     "data": {
      "text/plain": [
       "'C:\\\\Users\\\\Emili\\\\Documents\\\\Github\\\\ML-Exam'"
      ]
     },
     "execution_count": 20,
     "metadata": {},
     "output_type": "execute_result"
    }
   ],
   "source": [
    "import os\n",
    "os.getcwd()"
   ]
  },
  {
   "cell_type": "code",
   "execution_count": 22,
   "id": "a57fee99-df69-4726-a4db-43691e6b38d2",
   "metadata": {},
   "outputs": [
    {
     "data": {
      "text/plain": [
       "Index(['ID', 'realSum', 'room_type', 'person_capacity', 'multi', 'biz',\n",
       "       'cleanliness_rating', 'guest_satisfaction_overall', 'bedrooms', 'dist',\n",
       "       'metro_dist', 'City', 'room_shared_False', 'room_shared_True',\n",
       "       'room_private_False', 'room_private_True', 'host_is_superhost_False',\n",
       "       'host_is_superhost_True', 'Is_weekend_False', 'Is_weekend_True'],\n",
       "      dtype='object')"
      ]
     },
     "execution_count": 22,
     "metadata": {},
     "output_type": "execute_result"
    }
   ],
   "source": [
    "def clean_and_encode_airbnb_data(df):\n",
    "    # Drop specified columns\n",
    "    columns_to_drop = [\n",
    "        'lng', 'lat', 'attr_index', 'attr_index_norm', 'rest_index', 'rest_index_norm'\n",
    "    ]\n",
    "    df_cleaned = df.drop(columns=columns_to_drop)\n",
    "    \n",
    "    # Rename 'Unnamed: 0' to 'ID'\n",
    "    df_cleaned = df_cleaned.rename(columns={'Unnamed: 0': 'ID'})\n",
    "    \n",
    "    # Identify boolean columns\n",
    "    bool_cols = df_cleaned.select_dtypes(include='bool').columns.tolist()\n",
    "    \n",
    "    # Apply one-hot encoding to boolean columns\n",
    "    df_encoded = pd.get_dummies(df_cleaned, columns=bool_cols, drop_first=False)\n",
    "    \n",
    "    return df_encoded\n",
    "\n",
    "# Apply the updated function\n",
    "encoded_df = clean_and_encode_airbnb_data(df)\n",
    "\n",
    "# Display the updated dataframe columns\n",
    "encoded_df.columns\n"
   ]
  },
  {
   "cell_type": "code",
   "execution_count": 24,
   "id": "f466b821-d8ce-46af-8512-380184c05e3b",
   "metadata": {},
   "outputs": [
    {
     "name": "stdout",
     "output_type": "stream",
     "text": [
      "Cleaned and encoded data saved to '../ML-Exam/data\\cleaned_airbnb_data.csv'\n"
     ]
    }
   ],
   "source": [
    "import pandas as pd\n",
    "import os\n",
    "\n",
    "def clean_encode_and_save_new(input_filepath: str, output_filename: str):\n",
    "    \"\"\"\n",
    "    Reads the Airbnb dataset CSV at `input_filepath`, \n",
    "    drops specified columns, renames 'Unnamed: 0' to 'ID',\n",
    "    one-hot encodes all boolean columns, \n",
    "    and writes the cleaned/encoded DataFrame to a new file inside the same folder.\n",
    "    \"\"\"\n",
    "    # Read the original data\n",
    "    df = pd.read_csv(input_filepath)\n",
    "    \n",
    "    # Drop unwanted columns\n",
    "    cols_to_drop = ['lng', 'lat', 'attr_index', 'attr_index_norm', 'rest_index', 'rest_index_norm']\n",
    "    df = df.drop(columns=[c for c in cols_to_drop if c in df.columns])\n",
    "    \n",
    "    # Rename ID column if present\n",
    "    if 'Unnamed: 0' in df.columns:\n",
    "        df = df.rename(columns={'Unnamed: 0': 'ID'})\n",
    "    \n",
    "    # Identify and one-hot encode boolean columns\n",
    "    bool_cols = df.select_dtypes(include='bool').columns.tolist()\n",
    "    df = pd.get_dummies(df, columns=bool_cols, drop_first=False)\n",
    "    \n",
    "    # Determine output path\n",
    "    folder = os.path.dirname(input_filepath)\n",
    "    output_filepath = os.path.join(folder, output_filename)\n",
    "    \n",
    "    # Save to a new CSV file\n",
    "    df.to_csv(output_filepath, index=False)\n",
    "    \n",
    "    print(f\"Cleaned and encoded data saved to '{output_filepath}'\")\n",
    "\n",
    "# Example usage\n",
    "clean_encode_and_save_new(\n",
    "    '../ML-Exam/data/combined_airbnb_data.csv',\n",
    "    'cleaned_airbnb_data.csv'\n",
    ")\n"
   ]
  },
  {
   "cell_type": "code",
   "execution_count": null,
   "id": "b9dad515-927d-413c-a628-c2d78facaffb",
   "metadata": {},
   "outputs": [],
   "source": []
  }
 ],
 "metadata": {
  "kernelspec": {
   "display_name": "Python [conda env:base] *",
   "language": "python",
   "name": "conda-base-py"
  },
  "language_info": {
   "codemirror_mode": {
    "name": "ipython",
    "version": 3
   },
   "file_extension": ".py",
   "mimetype": "text/x-python",
   "name": "python",
   "nbconvert_exporter": "python",
   "pygments_lexer": "ipython3",
   "version": "3.11.5"
  }
 },
 "nbformat": 4,
 "nbformat_minor": 5
}
