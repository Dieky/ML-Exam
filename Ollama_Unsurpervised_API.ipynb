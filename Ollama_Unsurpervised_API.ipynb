{
 "cells": [
  {
   "cell_type": "code",
   "execution_count": 12,
   "id": "e359863c-5227-473e-a767-c23375fc9ecd",
   "metadata": {},
   "outputs": [],
   "source": [
    "from IPython.display import display, Markdown\n",
    "import pandas as pd\n",
    "import requests"
   ]
  },
  {
   "cell_type": "code",
   "execution_count": 14,
   "id": "b2f0f643-e3de-445b-8fc4-48f2a267d73f",
   "metadata": {},
   "outputs": [],
   "source": [
    "# Load clustered Airbnb data from the user's GitHub project path\n",
    "df = pd.read_csv(\"../ML-Exam/data/clustered_airbnb.csv\")"
   ]
  },
  {
   "cell_type": "code",
   "execution_count": 36,
   "id": "9b326b6f-7de7-4f57-9b33-7761a2666dd8",
   "metadata": {},
   "outputs": [],
   "source": [
    "# Define the LLaMA 3 client\n",
    "class Llama3Client:\n",
    "    def __init__(self, model=\"llama3\", host=\"http://localhost:11434\"):\n",
    "        self.model = model\n",
    "        self.api_url = f\"{host}/api/chat\"\n",
    "\n",
    "    def ask(self, prompt: str) -> str:\n",
    "        payload = {\n",
    "            \"model\": self.model,\n",
    "            \"messages\": [{\"role\": \"user\", \"content\": prompt}],\n",
    "            \"stream\": False\n",
    "        }\n",
    "        try:\n",
    "            response = requests.post(self.api_url, json=payload)\n",
    "            response.raise_for_status()\n",
    "            return response.json()['message']['content'].strip()\n",
    "        except requests.RequestException as e:\n",
    "            return f\"Error: {e}\"\n",
    "\n",
    "# Format listings for display in the prompt\n",
    "def format_listings(listings_df, nights):\n",
    "    listings = []\n",
    "    for _, row in listings_df.iterrows():\n",
    "        total_price = row['realSum'] * nights\n",
    "        listing = (\n",
    "            f\"{row['City']} (Cluster {row['cluster']}) - €{row['realSum']}/night, \"\n",
    "            f\"{row['bedrooms']} bedrooms, \"\n",
    "            f\"{row['dist']}km to center, \"\n",
    "            f\"{row['metro_dist']}km to metro, \"\n",
    "            f\"{row['guest_satisfaction_overall']} guest satisfaction, \"\n",
    "            f\"Total: €{total_price:.2f}\"\n",
    "        )\n",
    "        listings.append(listing)\n",
    "    return \"\\n\".join(listings)"
   ]
  },
  {
   "cell_type": "code",
   "execution_count": 38,
   "id": "84544818-47a2-41a4-b828-97743fa8b615",
   "metadata": {},
   "outputs": [],
   "source": [
    "# 1. Function for best value (all cities) using format_listings\n",
    "def recommend_best_value(df, budget, nights=5, max_results=5):\n",
    "    df['total_price'] = df['realSum'] * nights\n",
    "    filtered = df[df['total_price'] <= budget].sort_values(by='guest_satisfaction_overall', ascending=False).head(max_results)\n",
    "\n",
    "    if filtered.empty:\n",
    "        return \"No listings found within your budget.\"\n",
    "    \n",
    "    context = format_listings(filtered, nights)\n",
    "    prompt = f\"\"\"\n",
    "You are a travel assistant helping users choose the best Airbnb option from clustered data.\n",
    "\n",
    "The user has a budget of €{budget} for {nights} nights. Below are some available listings:\n",
    "\n",
    "{context}\n",
    "\n",
    "For each listing, consider:\n",
    "- Total price\n",
    "- Distance to city center and metro\n",
    "- Number of bedrooms\n",
    "- Guest satisfaction\n",
    "- Cluster number\n",
    "\n",
    "Which listing would you recommend and why? Include all these aspects in your answer.\n",
    "\"\"\"\n",
    "\n",
    "    client = Llama3Client()\n",
    "    return client.ask(prompt)\n",
    "\n",
    "nights = 5\n",
    "budget = 500\n",
    "\n",
    "response_1 = recommend_best_value(df, budget, nights)"
   ]
  },
  {
   "cell_type": "code",
   "execution_count": 39,
   "id": "1f9e5561-b6c1-49d9-be4a-d13c884528ab",
   "metadata": {},
   "outputs": [
    {
     "data": {
      "text/markdown": [
       "### Recommendation (Best Value Overall):"
      ],
      "text/plain": [
       "<IPython.core.display.Markdown object>"
      ]
     },
     "metadata": {},
     "output_type": "display_data"
    },
    {
     "data": {
      "text/markdown": [
       "After analyzing the available listings, I would recommend the Athens (Cluster 3) option.\n",
       "\n",
       "Here's a breakdown of the reasons:\n",
       "\n",
       "* **Total price**: With a budget of €500 for 5 nights, this option fits perfectly within that limit, with a total cost of €348.00.\n",
       "* **Distance to city center and metro**: The listing is only 1.4km away from the city center and 0.6km away from the metro, making it a convenient location for exploring Athens.\n",
       "* **Number of bedrooms**: It has 1 bedroom, which should be sufficient for most travelers.\n",
       "* **Guest satisfaction**: All listings have a guest satisfaction rating of 100%, indicating that previous guests were extremely happy with their stay.\n",
       "\n",
       "The only reason I wouldn't choose this option is because it's part of Cluster 3. If I had more information about the specific cluster or neighborhood, I might be able to make a more informed decision. However, since there are no significant differences in terms of total price, distance, number of bedrooms, and guest satisfaction among the different clusters, I would still recommend this option.\n",
       "\n",
       "It's worth noting that the other options are not significantly better than this one, but they do have some drawbacks. For example, Lisbon (Cluster 1) is farther from the city center and metro, while Athens (Cluster 2) has a slightly higher price point. Budapest (Cluster 4) is the farthest from the city center and metro, making it less convenient for exploring.\n",
       "\n",
       "Overall, I believe that the Athens (Cluster 3) option provides the best balance of factors within your budget."
      ],
      "text/plain": [
       "<IPython.core.display.Markdown object>"
      ]
     },
     "metadata": {},
     "output_type": "display_data"
    }
   ],
   "source": [
    "# Display results\n",
    "display(Markdown(\"### Recommendation (Best Value Overall):\"))\n",
    "display(Markdown(response_1))"
   ]
  },
  {
   "cell_type": "code",
   "execution_count": 44,
   "id": "1b36c406-b05f-4133-8ae0-25e5ad8a6251",
   "metadata": {},
   "outputs": [
    {
     "data": {
      "text/markdown": [
       "### Recommendation (City: Berlin):"
      ],
      "text/plain": [
       "<IPython.core.display.Markdown object>"
      ]
     },
     "metadata": {},
     "output_type": "display_data"
    },
    {
     "data": {
      "text/markdown": [
       "After analyzing the data, I'd like to recommend Berlin (Cluster 2) - €85.77/night, 1 bedroom, 6.5km to center, 0.3km to metro, 100 guest satisfaction, Total: €428.85.\n",
       "\n",
       "Here's why:\n",
       "\n",
       "* **Total price**: This option falls within the user's budget of €500 for 5 nights.\n",
       "* **Distance to city center and metro**: The listing is relatively close to the city center (6.5km) and has a short distance to the metro (0.3km), making it convenient for exploring Berlin.\n",
       "* **Number of bedrooms**: This option offers one bedroom, which should provide sufficient space for the user.\n",
       "* **Guest satisfaction**: The guest satisfaction rating is 100%, indicating that previous guests have been very satisfied with their stay.\n",
       "\n",
       "The only slightly negative aspect is the price, which is slightly higher than some of the other options. However, considering the overall value, distance, and guest satisfaction, I believe this option provides the best combination for the user.\n",
       "\n",
       "It's worth noting that Berlin (Cluster 4) - €84.84/night, 1 bedrooms, 16.4km to center, 4.1km to metro, 100 guest satisfaction, Total: €424.20 is another viable option, but it has a longer distance to the city center and metro compared to the recommended listing.\n",
       "\n",
       "Overall, I think Berlin (Cluster 2) - €85.77/night, 1 bedroom, 6.5km to center, 0.3km to metro, 100 guest satisfaction, Total: €428.85 is an excellent choice for this user."
      ],
      "text/plain": [
       "<IPython.core.display.Markdown object>"
      ]
     },
     "metadata": {},
     "output_type": "display_data"
    }
   ],
   "source": [
    "# 2. Function for a specific city\n",
    "def recommend_in_city(df, city, budget, nights=5, max_results=5):\n",
    "    df['total_price'] = df['realSum'] * nights\n",
    "    filtered = df[(df['City'].str.lower() == city.lower()) & (df['total_price'] <= budget)]\n",
    "    filtered = filtered.sort_values(by='guest_satisfaction_overall', ascending=False).head(max_results)\n",
    "\n",
    "    if filtered.empty:\n",
    "        return f\"No listings found in {city.title()} within your budget.\"\n",
    "\n",
    "    context = format_listings(filtered, nights)\n",
    "    prompt = f\"\"\"\n",
    "You are a travel assistant helping users choose the best Airbnb option in {city.title()} from clustered data.\n",
    "\n",
    "The user has a budget of €{budget} for {nights} nights. Below are some available listings in {city.title()}:\n",
    "\n",
    "{context}\n",
    "\n",
    "For each listing, consider:\n",
    "- Total price\n",
    "- Distance to city center and metro\n",
    "- Number of bedrooms\n",
    "- Guest satisfaction\n",
    "- Cluster number\n",
    "\n",
    "Based on value, distance, and cluster, which listing would you recommend and why?\n",
    "\"\"\"\n",
    "    client = Llama3Client()\n",
    "    return client.ask(prompt)\n",
    "\n",
    "# Example usage (you can replace these with input() calls or widgets in a notebook)\n",
    "nights = 5\n",
    "budget = 500\n",
    "city = \"Berlin\"\n",
    "\n",
    "response_2 = recommend_in_city(df, city, budget, nights)\n",
    "\n",
    "display(Markdown(f\"### Recommendation (City: {city.title()}):\"))\n",
    "display(Markdown(response_2))\n"
   ]
  },
  {
   "cell_type": "code",
   "execution_count": 18,
   "id": "988e473a-33d3-4316-b2f4-e1e6ebb9fbbe",
   "metadata": {},
   "outputs": [],
   "source": [
    "# Updated function for best value using .to_string()\n",
    "def recommend_best_value(df, budget, nights=5, max_results=5):\n",
    "    df['total_price'] = df['realSum'] * nights\n",
    "    filtered = df[df['total_price'] <= budget].sort_values(by='guest_satisfaction_overall', ascending=False).head(max_results)\n",
    "\n",
    "    if filtered.empty:\n",
    "        return \"No listings found within your budget.\"\n",
    "    \n",
    "    context = filtered.to_string(index=False)\n",
    "\n",
    "    prompt = f\"\"\"\n",
    "You are a travel assistant helping users choose the best Airbnb option from clustered data.\n",
    "\n",
    "The user has a budget of €{budget} for {nights} nights. Below are some available listings as a table:\n",
    "\n",
    "{context}\n",
    "\n",
    "Please evaluate each listing and recommend the best one. Be sure to consider:\n",
    "- Total price\n",
    "- Distance to city center and metro (dist & metro_dist)\n",
    "- Number of bedrooms (bedrooms)\n",
    "- Guest Satisfaction (guest_satisfaction_overall)\n",
    "- Cluster\n",
    "\n",
    "Explain your reasoning clearly using all available details and remember to mention which city the airbnb is located in.\n",
    "\"\"\"\n",
    "    client = Llama3Client()\n",
    "    return client.ask(prompt)"
   ]
  },
  {
   "cell_type": "code",
   "execution_count": 20,
   "id": "d87f49c2-0784-40ff-ba74-257b53c297e2",
   "metadata": {},
   "outputs": [
    {
     "data": {
      "text/markdown": [
       "Based on the given data, I will evaluate each listing and recommend the best one considering total price, distance to city center and metro, number of bedrooms, guest satisfaction overall, and cluster.\n",
       "\n",
       "**Listing 1:**\n",
       "\n",
       "* ID: 2267\n",
       "* City: Athens\n",
       "* Total Price: €348.00 (€69.60 per night for 5 nights)\n",
       "* Distance to city center: 1.4 km\n",
       "* Metro distance: 0.6 km\n",
       "* Bedrooms: 1\n",
       "* Guest satisfaction overall: 100%\n",
       "* Cluster: 3\n",
       "\n",
       "This listing is a good option considering the total price and distance to the city center and metro. However, it's a small space with only one bedroom.\n",
       "\n",
       "**Listing 2:**\n",
       "\n",
       "* ID: 2046\n",
       "* City: Lisbon\n",
       "* Total Price: €440.90 (€88.18 per night for 5 nights)\n",
       "* Distance to city center: 2.3 km\n",
       "* Metro distance: Not available\n",
       "* Bedrooms: 1\n",
       "* Guest satisfaction overall: 100%\n",
       "* Cluster: 1\n",
       "\n",
       "This listing is more expensive than the first one, and its distance to the city center is greater. Additionally, there's no information about metro distances.\n",
       "\n",
       "**Listing 3:**\n",
       "\n",
       "* ID: 2338\n",
       "* City: Athens\n",
       "* Total Price: €394.85 (€78.97 per night for 5 nights)\n",
       "* Distance to city center: 1.2 km\n",
       "* Metro distance: Not available\n",
       "* Bedrooms: 1\n",
       "* Guest satisfaction overall: 100%\n",
       "* Cluster: 2\n",
       "\n",
       "This listing is a good option considering the total price and distance to the city center. However, there's no information about metro distances.\n",
       "\n",
       "**Listing 4:**\n",
       "\n",
       "* ID: 1934\n",
       "* City: Budapest\n",
       "* Total Price: €405.35 (€81.07 per night for 5 nights)\n",
       "* Distance to city center: 11.9 km (outside the city center)\n",
       "* Metro distance: Not available\n",
       "* Bedrooms: 1\n",
       "* Guest satisfaction overall: 100%\n",
       "* Cluster: 4\n",
       "\n",
       "This listing is more expensive than the first three, and its distance to the city center is significantly greater.\n",
       "\n",
       "**Listing 5:**\n",
       "\n",
       "* ID: 2361\n",
       "* City: Athens\n",
       "* Total Price: €434.70 (€86.94 per night for 5 nights)\n",
       "* Distance to city center: 1.6 km\n",
       "* Metro distance: Not available\n",
       "* Bedrooms: 1\n",
       "* Guest satisfaction overall: 100%\n",
       "* Cluster: 1\n",
       "\n",
       "This listing is more expensive than the first two, and its distance to the city center is slightly greater.\n",
       "\n",
       "Considering all factors, I recommend **Listing 1** (ID: 2267) in Athens. It's a good balance between total price, distance to the city center and metro, and guest satisfaction overall. Additionally, it's part of cluster 3, which might indicate that it's a popular option among travelers.\n",
       "\n",
       "Keep in mind that this recommendation is based on the provided data, and I encourage you to further evaluate each listing by reading reviews and checking the host's profile before making a decision."
      ],
      "text/plain": [
       "<IPython.core.display.Markdown object>"
      ]
     },
     "metadata": {},
     "output_type": "display_data"
    }
   ],
   "source": [
    "response_1 = recommend_best_value(df, budget=500, nights=5)\n",
    "display(Markdown(response_1))\n"
   ]
  },
  {
   "cell_type": "code",
   "execution_count": 94,
   "id": "5615dfe9-0b1f-4ba8-9907-25e9b3d4dc0f",
   "metadata": {},
   "outputs": [],
   "source": [
    "# Updated function for specific city using .to_string()\n",
    "def recommend_in_city(df, city, budget, nights=5, max_results=5):\n",
    "    df['total_price'] = df['realSum'] * nights\n",
    "    filtered = df[\n",
    "        (df['City'].str.lower() == city.lower()) &\n",
    "        (df['total_price'] <= budget)\n",
    "    ].sort_values(by='guest_satisfaction_overall', ascending=False).head(max_results)\n",
    "\n",
    "    if filtered.empty:\n",
    "        return f\"No listings found in {city.title()} within your budget.\"\n",
    "    \n",
    "    context = filtered.to_string(index=False)\n",
    "\n",
    "    prompt = f\"\"\"\n",
    "You are a travel assistant helping users choose the best Airbnb option in {city.title()}.\n",
    "\n",
    "The user has a budget of €{budget} for {nights} nights. Below are the available listings in table format:\n",
    "\n",
    "{context}\n",
    "\n",
    "Please evaluate the listings and recommend the best one. Include reasoning based on:\n",
    "- Total cost\n",
    "- Distance to attractions\n",
    "- Bedrooms\n",
    "- Guest satisfaction\n",
    "- Cluster number\n",
    "\"\"\"\n",
    "    client = Llama3Client()\n",
    "    return client.ask(prompt)"
   ]
  },
  {
   "cell_type": "code",
   "execution_count": null,
   "id": "d6571c83-4cc0-4308-9ee6-33268fd685b3",
   "metadata": {},
   "outputs": [],
   "source": []
  }
 ],
 "metadata": {
  "kernelspec": {
   "display_name": "Python [conda env:base] *",
   "language": "python",
   "name": "conda-base-py"
  },
  "language_info": {
   "codemirror_mode": {
    "name": "ipython",
    "version": 3
   },
   "file_extension": ".py",
   "mimetype": "text/x-python",
   "name": "python",
   "nbconvert_exporter": "python",
   "pygments_lexer": "ipython3",
   "version": "3.11.5"
  }
 },
 "nbformat": 4,
 "nbformat_minor": 5
}
