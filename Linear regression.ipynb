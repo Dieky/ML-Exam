{
 "cells": [
  {
   "cell_type": "markdown",
   "id": "c23d311b-5c2a-49dc-866a-f8bab9196f20",
   "metadata": {},
   "source": [
    "# Supervised learning\n",
    "We aim to create a model that can suggest a price for new landlords when they wish to add a new home to airbnb."
   ]
  },
  {
   "cell_type": "code",
   "execution_count": null,
   "id": "157257dc-1a95-47e4-a86b-1e461761020a",
   "metadata": {},
   "outputs": [],
   "source": [
    "import pandas as pd\n",
    "\n",
    "df = pd.read_csv('./data/supervised_cleaned_airbnb_data.csv')\n",
    "\n",
    "df.head()\n"
   ]
  },
  {
   "cell_type": "markdown",
   "id": "1d37fef5-9dc7-4d5e-9033-b0e08e0e1794",
   "metadata": {},
   "source": [
    "All data is numerical ensuring that we can use any value to train our model.\n",
    "The table below explains what the different values mean."
   ]
  },
  {
   "cell_type": "markdown",
   "id": "4b907322-c0ec-474e-8f7b-08a6cf71c29d",
   "metadata": {},
   "source": [
    "| Column name                  | Description                                                       |\n",
    "|-----------------------------|-------------------------------------------------------------------|\n",
    "| **realSum**                 | The total price of the Airbnb listing. **(Numeric)**                 |\n",
    "| **room_type**               | 1. Private room, 2. Entire home/apt, 3. Shared room **(Numeric)** |\n",
    "| **room_shared_bool**             | Whether the room is shared or not. **(Boolean)**                     |\n",
    "| **room_private_bool**            | Whether the room is private or not. **(Boolean)**                    |\n",
    "| **person_capacity**         | The maximum number of people that can stay in the room. **(Numeric)** |\n",
    "| **host_is_superhost_bool**       | Whether the host is a superhost or not. **(Boolean)**                |\n",
    "| **multi_bool**                   | Whether the listing is for multiple rooms or not. **(Boolean)**      |\n",
    "| **biz_bool**                     | Whether the listing is for business purposes or not. **(Boolean)**   |\n",
    "| **cleanliness_rating**      | The cleanliness rating of the listing. **(Numeric)**                 |\n",
    "| **guest_satisfaction_overall** | The overall guest satisfaction rating of the listing. **(Numeric)** |\n",
    "| **bedrooms**                | The number of bedrooms in the listing. **(Numeric)**                 |\n",
    "| **dist**                    | The distance from the city centre. **(Numeric)**                     |\n",
    "| **metro_dist**              | The distance from the nearest metro station. **(Numeric)**           |\n",
    "| **City**                    | 1. Amsterdam, 2. Athen, 3. Barcelona, 4. Berlin, 5. Budapest, 6. Lisbon, 7. London, 8. Paris, 9. Rome, 10. Vienna **(Numeric)** |\n",
    "| **Is_weekend_bool**         | Whether the home is available on weekends or not. **(Boolean)**      |"
   ]
  },
  {
   "cell_type": "markdown",
   "id": "015628ef-6d30-42c2-9d0f-a962b2fc31f4",
   "metadata": {},
   "source": [
    "## Model 1\n",
    "Initially we thought it would be a good idea, to have a single model that took data from all cities across Europe. This model proved to be quite far off the mark."
   ]
  },
  {
   "cell_type": "code",
   "execution_count": null,
   "id": "fcf4f62c-e9f2-4f5a-8a0b-b627a2a514b4",
   "metadata": {},
   "outputs": [],
   "source": [
    "from sklearn.model_selection import train_test_split\n",
    "from sklearn.linear_model import LinearRegression\n",
    "\n",
    "# The ratings are omitted as a new home would not have ratings upfront.\n",
    "# We also did not care about multiple rooms or business purpose.\n",
    "\n",
    "# x = The features/columns we want our model to look at when making the model\n",
    "X = df[['room_type','room_shared_bool','room_private_bool','person_capacity','bedrooms','dist','metro_dist', 'City','Is_weekend_bool']]  \n",
    "# y = The price we wish to compare with\n",
    "y = df['realSum'] \n",
    "\n",
    "X_train, X_test, y_train, y_test = train_test_split(X, y, test_size=0.2, random_state=42)\n",
    "\n",
    "model = LinearRegression()\n",
    "model.fit(X_train, y_train)"
   ]
  },
  {
   "cell_type": "code",
   "execution_count": null,
   "id": "8b61a3fe-852d-4cf1-95dc-05fe7a85990a",
   "metadata": {},
   "outputs": [],
   "source": [
    "import warnings\n",
    "warnings.filterwarnings(\"ignore\", message=\"X does not have valid feature names\")\n",
    "\n",
    "def predict_price(room_type, room_shared_bool, room_private_bool, person_capacity, bedrooms, dist, metro_dist, City, Is_weekend_bool):\n",
    "    input_data = [[room_type, room_shared_bool, room_private_bool, person_capacity, bedrooms, dist, metro_dist, City, Is_weekend_bool]]\n",
    "    predicted_price = model.predict(input_data)[0]\n",
    "    return round(predicted_price, 2)\n",
    "\n",
    "amsterdam = predict_price(\n",
    "    room_type=1,\n",
    "    room_shared_bool=0,\n",
    "    room_private_bool=1,\n",
    "    person_capacity=2,\n",
    "    bedrooms=1,\n",
    "    dist=5.0,\n",
    "    metro_dist=2.5,\n",
    "    City=2,        \n",
    "    Is_weekend_bool=0\n",
    ")\n",
    "\n",
    "\n",
    "london = predict_price(\n",
    "    room_type=1,\n",
    "    room_shared_bool=0,\n",
    "    room_private_bool=1,\n",
    "    person_capacity=2,\n",
    "    bedrooms=1,\n",
    "    dist=5.0,\n",
    "    metro_dist=2.5,\n",
    "    City=7,        \n",
    "    Is_weekend_bool=0\n",
    ")\n",
    "\n",
    "athens = predict_price(\n",
    "    room_type=1,\n",
    "    room_shared_bool=0,\n",
    "    room_private_bool=1,\n",
    "    person_capacity=2,\n",
    "    bedrooms=1,\n",
    "    dist=5.0,\n",
    "    metro_dist=2.5,\n",
    "    City=2,        \n",
    "    Is_weekend_bool=0\n",
    ")\n",
    "\n",
    "print(\"Predicted price Amsterdam:\", amsterdam)\n",
    "print(\"Predicted price London:\", london)\n",
    "print(\"Predicted price Athens:\", athens)"
   ]
  },
  {
   "cell_type": "markdown",
   "id": "78e62823-33b0-46f0-8b30-d92b1ca77500",
   "metadata": {},
   "source": [
    "First we wanted to test the predicted price against the actual price in the dataset. The actual price of the first entry in the dataset is 194.03 leaving us 42.15 off the mark (Amsterdam)\n",
    "\n",
    "Another expected result would be the price being different from city to city. London is a very expensive city but the price is nearly identical regardless of the chosen city. \n",
    "\n",
    "This lead us to do some more testing and we decided on another approach to the model. Instead of having a single model we would have 1 model for each city and compare the results to our first model."
   ]
  },
  {
   "cell_type": "markdown",
   "id": "75f69d92-1d75-4a41-819a-d9183eb74091",
   "metadata": {},
   "source": [
    "## Model 2\n",
    "1 model per city"
   ]
  },
  {
   "cell_type": "code",
   "execution_count": null,
   "id": "9ddb67fe-218e-4a72-841a-e111d4301c63",
   "metadata": {},
   "outputs": [],
   "source": [
    "from sklearn.model_selection import train_test_split\n",
    "from sklearn.linear_model import LinearRegression\n",
    "from sklearn.metrics import mean_squared_error, r2_score\n",
    "\n",
    "city_models = {}\n",
    "\n",
    "\n",
    "for city, city_data in df.groupby('City'):\n",
    "    X = city_data[['room_type','room_shared_bool','room_private_bool','person_capacity','bedrooms','dist','metro_dist','Is_weekend_bool']]\n",
    "    y = city_data['realSum']\n",
    "\n",
    "    X_train, X_test, y_train, y_test = train_test_split(X, y, test_size=0.2, random_state=42)\n",
    "\n",
    "    model = LinearRegression()\n",
    "    model.fit(X_train, y_train)\n",
    "\n",
    "    # Store the trained model\n",
    "    city_models[city] = model\n",
    "\n"
   ]
  },
  {
   "cell_type": "code",
   "execution_count": null,
   "id": "09915ed8-2b51-4c18-8d9a-334eee91e596",
   "metadata": {},
   "outputs": [],
   "source": [
    "# Example features: room_type, room_shared_bool, room_private_bool, person_capacity, bedrooms, dist, metro_dist, Is_weekend_bool\n",
    "\n",
    "# Same values as the first test\n",
    "amsterdam = {\n",
    "    \"data\": [[1, 0, 1, 2, 1, 5.0, 2.5, 0]],\n",
    "    \"cityId\": 1\n",
    "}\n",
    "athens = {\n",
    "    \"data\": [[1, 0, 1, 2, 1, 5.0, 2.5, 0]],\n",
    "    \"cityId\": 2\n",
    "}\n",
    "athens2 = {\n",
    "    \"data\": [[1, 0, 1, 2, 1, 1.0, 0.5, 0]],\n",
    "    \"cityId\": 2\n",
    "}\n",
    "\n",
    "london = { \n",
    "    \"data\": [[1, 0, 1, 2, 1, 5.0, 2.5, 0]],\n",
    "    \"cityId\": 7\n",
    "}\n",
    "\n",
    "def predict_price(dataObject):\n",
    "    city_id = dataObject[\"cityId\"]\n",
    "    model = city_models.get(city_id)\n",
    "    if model:\n",
    "        predicted_price = model.predict(dataObject[\"data\"])[0]\n",
    "        print(f\"Predicted price for city {city_id}:\", round(predicted_price, 2))\n",
    "    else:\n",
    "        print(f\"No model found for city {city_id}\")\n",
    "\n",
    "predict_price(amsterdam)\n",
    "predict_price(athens)\n",
    "predict_price(athens2)\n",
    "predict_price(london)"
   ]
  },
  {
   "cell_type": "markdown",
   "id": "df3fc712-8839-4ce0-8234-f91f91953d6a",
   "metadata": {},
   "source": [
    "With our new model we test the same values as model 1 used.\n",
    "\n",
    "Now the prices are more varied and going to Athens seems like a great deal to us! We investigated the dataset and the reason for the minus value in Athens.\n",
    "It turns out that all homes in Athens are very close to the city center and the metro. Changing the values of those 2 parameters provides a more fitting price (athens2 contains changed values).\n",
    "\n",
    "\n",
    "While the price does not match the original 194.03 from the first entry. It is still closer than the first model. There could be various parameters that are unknown to us. The condition of the interior can for instance vary a lot. Maybe theres an old bathroom and the furniture is not of great quality. A landlord might also want to compete on price putting the home lower than what could have been the case.\n",
    "\n",
    "\n"
   ]
  },
  {
   "cell_type": "code",
   "execution_count": null,
   "id": "66d6ccd7-fd50-4fe1-8001-8401ec6eecb7",
   "metadata": {},
   "outputs": [],
   "source": [
    "# Vi skal have lavet funktionalitet til at kunne modtage input og ud fra dette input bruge vores model 2.\n",
    "# Efterfølgende skal en foreslået pris printes ud til brugeren\n",
    "# Skriv kommentarer/markdown til denne del as well."
   ]
  },
  {
   "cell_type": "code",
   "execution_count": null,
   "id": "806efdad-4275-44cf-8fe5-38c66258687f",
   "metadata": {},
   "outputs": [],
   "source": []
  }
 ],
 "metadata": {
  "kernelspec": {
   "display_name": "Python [conda env:base] *",
   "language": "python",
   "name": "conda-base-py"
  },
  "language_info": {
   "codemirror_mode": {
    "name": "ipython",
    "version": 3
   },
   "file_extension": ".py",
   "mimetype": "text/x-python",
   "name": "python",
   "nbconvert_exporter": "python",
   "pygments_lexer": "ipython3",
   "version": "3.12.7"
  }
 },
 "nbformat": 4,
 "nbformat_minor": 5
}
